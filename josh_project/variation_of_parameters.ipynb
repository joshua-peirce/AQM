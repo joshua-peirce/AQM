{
 "cells": [
  {
   "cell_type": "markdown",
   "id": "63960d3b-53b7-49ab-b98d-e0c92373c4a1",
   "metadata": {},
   "source": [
    "# In this notebook, I will describe how to use variation of parameters to estimate a slater-type orbital as a linear combination of gaussian-type orbitals\n",
    "## Specifically, I will consider the caes of a hydrogen atom"
   ]
  },
  {
   "cell_type": "markdown",
   "id": "3bbe51c2-d5a7-41ba-9d81-7e0ec70a72fb",
   "metadata": {},
   "source": [
    "### Previous work:\n",
    "Thankfully, the overlap $S$ matrix, as well as the kinetic energy $T$ matrix and the coulomb potential energy $V$ matrix has been calculated for me in terms of the standard deviations of these gaussians:\n",
    "$$\\newcommand{\\ket}[1]{\\left|{#1}\\right\\rangle}$$\n",
    "$$\\newcommand{\\bra}[1]{\\left\\langle{#1}\\right|}$$\n",
    "$$\\begin{align*}\n",
    "S_{pq} &= \\left ( \\frac{\\pi}{\\alpha_p + \\alpha_q} \\right ) ^ {3/2}\\\\\n",
    "T_{pq} &= 3 \\frac{\\alpha_p \\alpha_q \\pi^{3/2}}{\\left(\\alpha_p + \\alpha_q\\right)^{5/2}}\\\\\n",
    "V_{pq} &= -\\frac{2\\pi}{\\alpha_p + \\alpha_q}\n",
    "\\end{align*}$$"
   ]
  },
  {
   "cell_type": "markdown",
   "id": "2347710c-29cf-4df1-a116-3fb73e43eddc",
   "metadata": {},
   "source": [
    "### My work:\n",
    "The slater-type orbital we would like to approximate is represented as a linear combination of the gaussian type orbitals:\n",
    "$$\n",
    "\\begin{align*}\n",
    "\\ket{s} &= \\displaystyle\\sum_i C_i \\ket{i}\\\\\n",
    "\\ket{i} &= \\exp\\left(\\alpha_i r^2\\right)\n",
    "\\end{align*}\n",
    "$$\n",
    "It remains to optimize the values of the coefficients $C_i$ and the parameters in the gaussians $\\alpha_i$. I will do this with gradient descent."
   ]
  },
  {
   "cell_type": "markdown",
   "id": "acc269d7-2075-42db-87af-4c9f7de22426",
   "metadata": {},
   "source": [
    "### How it works:\n",
    "The variational principle states that for any state with a variational parameter, nature will choose the value of that parameter that *minimizes* the energy. Thus, to optimize the linear combination of gaussians to most faithfully represent the slater-type orbital, the energy of this linear combination of gaussians must be minimized. This reduces the quantum mechanics problem to a more abstract optimization problem."
   ]
  },
  {
   "cell_type": "code",
   "execution_count": 1,
   "id": "27402831-4ef2-43ce-ae87-420848e07e8c",
   "metadata": {},
   "outputs": [],
   "source": [
    "#First, I import the necessary libraries and set constants with regards to the learning parameters\n",
    "import numpy as np\n",
    "import math\n",
    "\n",
    "PI_3_2 = math.pi ** 1.5\n",
    "N = 6 #number of terms used in linear combination\n",
    "\n",
    "#These can be tuned; I just found that these values work well.\n",
    "ALPHA_LEARNING_RATE = 0.1\n",
    "COEFF_LEARNING_RATE = 0.1\n",
    "DELTA_A = 0.001\n",
    "DELTA_C = 0.001\n",
    "\n",
    "NUM_ITERS = 10 ** 4"
   ]
  },
  {
   "cell_type": "markdown",
   "id": "923ff422-2349-4b1a-9dab-830e7dd0fa69",
   "metadata": {},
   "source": [
    "Then, I set up the functions for calculating the energy as described above. It is important to note here that the energy of a linear combination of states is defined as:\n",
    "$$\n",
    "\\begin{equation*}\n",
    "E_\\psi = \\frac{\\bra{\\psi} \\hat{H} \\ket{\\psi}}{\\bra{\\psi}\\ket{\\psi}}\n",
    "\\end{equation*}\n",
    "$$"
   ]
  },
  {
   "cell_type": "code",
   "execution_count": 2,
   "id": "ae1b1d6b-af54-4be0-ab85-e212560ec420",
   "metadata": {},
   "outputs": [],
   "source": [
    "def calc_overlap(ap, aq):\n",
    "    return PI_3_2 / ((ap + aq) ** 1.5)\n",
    "\n",
    "def calc_KE(ap, aq):\n",
    "    return 3 * PI_3_2 * (ap * aq) / (ap + aq) ** 2.5\n",
    "\n",
    "def calc_PE(ap, aq):\n",
    "    return -2 * math.pi / (ap + aq)\n",
    "\n",
    "def calc_single_E(ap, aq):\n",
    "    return calc_KE(ap, aq) + calc_PE(ap, aq)\n",
    "\n",
    "def calc_norm(c, a):\n",
    "    o = 0\n",
    "    for i in range(N):\n",
    "        for j in range(N):\n",
    "            o += c[i] * c[j] * calc_overlap(a[i], a[j])\n",
    "    return o\n",
    "\n",
    "def calc_composite_E(c, a):\n",
    "     #E = \\sum_i \\sum_j C_i C_j <i | H | j> / <i | j>\n",
    "     E = 0\n",
    "     o = 0\n",
    "     for i in range(N):\n",
    "         for j in range(N):\n",
    "             E += c[i] * c[j] * calc_single_E(a[i], a[j])\n",
    "     return E / calc_norm(c, a)"
   ]
  },
  {
   "cell_type": "markdown",
   "id": "e5c3af4e-7077-4b5c-9cd8-af4d1c38587f",
   "metadata": {},
   "source": [
    "Now, I will implement the gradient descent algorithm. How it works is it calculates the direction of steepest descent for each of the parameters (each value of $\\alpha$ and $C$) using a crude method of calculating the derivative (simply taking the slope of the local secant line as the slope of the tangent line). It then adjusts them in that direction an amount scaled by the learning rate parameters. Note: if alpha ever goes negative, the gaussian it represents now blows up to infinity, and it no longer represents a physical state. This would break all physical sense and all our calculations, so to prevent this from happening, I scale the change to alpha by the value of alpha itself. This way, it will never subtract something greater than alpha from alpha, keeping its value always positive."
   ]
  },
  {
   "cell_type": "code",
   "execution_count": 3,
   "id": "c924fdea-2ae9-4f85-83f0-e5e2429def05",
   "metadata": {},
   "outputs": [],
   "source": [
    "def step(c, a):\n",
    "    #Vary the parameters to see the direction of steepest descent.\n",
    "    #Start with alphas and then move on to coefficients\n",
    "    E_0 = calc_composite_E(c, a)\n",
    "    #print(E_0)\n",
    "    #Computing alphas\n",
    "    gradients_a = []\n",
    "    gradients_c = []\n",
    "    for i in range(N):\n",
    "        a[i] += DELTA_A\n",
    "        gradients_a.append((calc_composite_E(c, a) - E_0) / DELTA_A)\n",
    "        a[i] -= DELTA_A\n",
    "    for i in range(N):\n",
    "        c[i] += DELTA_C\n",
    "        gradients_c.append((calc_composite_E(c, a) - E_0) / DELTA_C)\n",
    "        c[i] -= DELTA_C\n",
    "    a -= gradients_a * a # scaled by the alpha values so they never go negative\n",
    "    c -= gradients_c\n",
    "    return c, a"
   ]
  },
  {
   "cell_type": "markdown",
   "id": "504eca00-15e9-4128-bfb3-8e5a5307b75c",
   "metadata": {},
   "source": [
    "Now, I assign random values to the starting parameters, and let the code run!"
   ]
  },
  {
   "cell_type": "code",
   "execution_count": 4,
   "id": "4e26ba59-8883-4a7d-996f-2761a454deeb",
   "metadata": {},
   "outputs": [
    {
     "name": "stdout",
     "output_type": "stream",
     "text": [
      "[0.42644667 0.22109692 0.42759154 0.02041894] [0.99631022 0.38190557 0.17738582 0.95253861] -0.47656383273406483\n",
      "[0.60723721 0.59799669 0.17585582 0.76451283] [4.81627174 0.25848006 0.0883374  0.92006116] -0.4977516011814803\n",
      "[0.62730445 0.72635589 0.1630477  0.88693872] [6.05424727 0.26502342 0.08305094 1.04699258] -0.49851646686248074\n",
      "[0.58393023 0.73583357 0.1693266  0.85887725] [6.80698246 0.28131638 0.08584556 1.14006673] -0.4987454947774738\n",
      "[0.5398204  0.72114419 0.18023221 0.81036239] [7.36737242 0.29686864 0.08949457 1.21736254] -0.49882400506126645\n",
      "[0.50855982 0.70951987 0.18939183 0.77464495] [7.82355225 0.3094898  0.09235219 1.2804832 ] -0.49886103969252066\n",
      "[0.48769324 0.70302653 0.19592563 0.75177511] [8.20386995 0.31909655 0.09438427 1.33064889] -0.4988874810769719\n",
      "[0.47304248 0.69931083 0.20071142 0.73641826] [8.52300555 0.32650889 0.09587606 1.37087347] -0.4989080298235916\n",
      "[0.46217572 0.69698147 0.204391   0.72538661] [8.79235038 0.3323906  0.09702134 1.40368866] -0.4989238465845055\n",
      "[0.45380362 0.69541645 0.20731512 0.71707949] [9.02104203 0.33715829 0.09792834 1.43083835] -0.49893603370642814\n"
     ]
    }
   ],
   "source": [
    "c = np.random.rand(N)\n",
    "a = np.random.rand(N)\n",
    "\n",
    "for i in range(NUM_ITERS):\n",
    "    c, a = step(c, a)\n",
    "    if i % int(NUM_ITERS / 10) == 0:\n",
    "        print(c, a, calc_composite_E(c, a))"
   ]
  },
  {
   "cell_type": "markdown",
   "id": "eb5aec06-925d-4b85-93fd-e4a2d3a3d30f",
   "metadata": {},
   "source": [
    "The values should converge to -0.5, as that is the theoretical limit, as determined without using approximations. Note: re-running the program will produce slightly different results, since the initial parameters are randomly set."
   ]
  }
 ],
 "metadata": {
  "kernelspec": {
   "display_name": "Python 3 (ipykernel)",
   "language": "python",
   "name": "python3"
  },
  "language_info": {
   "codemirror_mode": {
    "name": "ipython",
    "version": 3
   },
   "file_extension": ".py",
   "mimetype": "text/x-python",
   "name": "python",
   "nbconvert_exporter": "python",
   "pygments_lexer": "ipython3",
   "version": "3.10.4"
  }
 },
 "nbformat": 4,
 "nbformat_minor": 5
}
